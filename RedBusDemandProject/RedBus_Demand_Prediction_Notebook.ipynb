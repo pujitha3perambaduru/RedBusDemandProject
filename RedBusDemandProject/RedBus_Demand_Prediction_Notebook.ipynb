{
 "cells": [
  {
   "cell_type": "markdown",
   "id": "baf8eb7e",
   "metadata": {},
   "source": [
    "# 🚍 RedBus Demand Prediction Hackathon\n",
    "\n",
    "Step-by-step notebook for Analytics Vidhya 2025"
   ]
  },
  {
   "cell_type": "code",
   "execution_count": null,
   "id": "8228d607",
   "metadata": {},
   "outputs": [],
   "source": [
    "\n",
    "import pandas as pd\n",
    "import numpy as np\n",
    "from sklearn.ensemble import RandomForestRegressor\n",
    "from sklearn.model_selection import train_test_split\n",
    "from sklearn.metrics import mean_squared_error\n",
    "from sklearn.preprocessing import LabelEncoder\n"
   ]
  },
  {
   "cell_type": "code",
   "execution_count": null,
   "id": "8a6115b7",
   "metadata": {},
   "outputs": [],
   "source": [
    "\n",
    "train = pd.read_csv('train.csv')\n",
    "test = pd.read_csv('test.csv')\n",
    "\n",
    "print(\"Train shape:\", train.shape)\n",
    "print(\"Test shape:\", test.shape)\n"
   ]
  },
  {
   "cell_type": "code",
   "execution_count": null,
   "id": "39c8531c",
   "metadata": {},
   "outputs": [],
   "source": [
    "\n",
    "train['doj'] = pd.to_datetime(train['doj'])\n",
    "test['doj'] = pd.to_datetime(test['doj'])\n"
   ]
  },
  {
   "cell_type": "code",
   "execution_count": null,
   "id": "b1172edf",
   "metadata": {},
   "outputs": [],
   "source": [
    "\n",
    "train['dayofweek'] = train['doj'].dt.dayofweek\n",
    "train['month'] = train['doj'].dt.month\n",
    "\n",
    "test['dayofweek'] = test['doj'].dt.dayofweek\n",
    "test['month'] = test['doj'].dt.month\n"
   ]
  },
  {
   "cell_type": "code",
   "execution_count": null,
   "id": "eab009d5",
   "metadata": {},
   "outputs": [],
   "source": [
    "\n",
    "train['route'] = train['srcid'].astype(str) + \"_\" + train['destid'].astype(str)\n",
    "test['route'] = test['srcid'].astype(str) + \"_\" + test['destid'].astype(str)\n"
   ]
  },
  {
   "cell_type": "code",
   "execution_count": null,
   "id": "cd451047",
   "metadata": {},
   "outputs": [],
   "source": [
    "\n",
    "le = LabelEncoder()\n",
    "train['route_encoded'] = le.fit_transform(train['route'])\n",
    "test['route_encoded'] = le.transform(test['route'])\n"
   ]
  },
  {
   "cell_type": "code",
   "execution_count": null,
   "id": "8080c8d3",
   "metadata": {},
   "outputs": [],
   "source": [
    "\n",
    "X = train[['srcid', 'destid', 'dayofweek', 'month', 'route_encoded']]\n",
    "y = train['final_seatcount']\n"
   ]
  },
  {
   "cell_type": "code",
   "execution_count": null,
   "id": "1d7acf60",
   "metadata": {},
   "outputs": [],
   "source": [
    "\n",
    "X_train, X_valid, y_train, y_valid = train_test_split(X, y, test_size=0.2, random_state=42)\n"
   ]
  },
  {
   "cell_type": "code",
   "execution_count": null,
   "id": "365816de",
   "metadata": {},
   "outputs": [],
   "source": [
    "\n",
    "model = RandomForestRegressor(n_estimators=100, random_state=42)\n",
    "model.fit(X_train, y_train)\n",
    "\n",
    "y_pred = model.predict(X_valid)\n",
    "print(\"Validation RMSE:\", np.sqrt(mean_squared_error(y_valid, y_pred)))\n"
   ]
  },
  {
   "cell_type": "code",
   "execution_count": null,
   "id": "34c3b5a0",
   "metadata": {},
   "outputs": [],
   "source": [
    "\n",
    "X_test = test[['srcid', 'destid', 'dayofweek', 'month', 'route_encoded']]\n",
    "test['final_seatcount'] = model.predict(X_test)\n"
   ]
  },
  {
   "cell_type": "code",
   "execution_count": null,
   "id": "d960939b",
   "metadata": {},
   "outputs": [],
   "source": [
    "\n",
    "submission = test[['route_key', 'final_seatcount']]\n",
    "submission.to_csv('submission.csv', index=False)\n",
    "print(\"Submission file saved!\")\n"
   ]
  }
 ],
 "metadata": {},
 "nbformat": 4,
 "nbformat_minor": 5
}